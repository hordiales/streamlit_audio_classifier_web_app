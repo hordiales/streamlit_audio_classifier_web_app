{
  "nbformat": 4,
  "nbformat_minor": 0,
  "metadata": {
    "colab": {
      "provenance": []
    },
    "kernelspec": {
      "name": "python3",
      "display_name": "Python 3"
    },
    "language_info": {
      "name": "python"
    },
    "accelerator": "TPU"
  },
  "cells": [
    {
      "cell_type": "code",
      "execution_count": null,
      "metadata": {
        "id": "f-OjWJf7ITup"
      },
      "outputs": [],
      "source": [
        "import numpy as np\n",
        "import librosa\n",
        "import json\n",
        "import tensorflow as tf\n",
        "import keras\n",
        "#from keras import backend as K\n"
      ]
    },
    {
      "cell_type": "code",
      "source": [
        "from google.colab import drive\n",
        "drive.mount('/content/drive')"
      ],
      "metadata": {
        "colab": {
          "base_uri": "https://localhost:8080/"
        },
        "id": "GgA_7fuEJ3aA",
        "outputId": "dd4e9a2e-0a68-4ebd-ab7b-31c6e7945fde"
      },
      "execution_count": null,
      "outputs": [
        {
          "output_type": "stream",
          "name": "stdout",
          "text": [
            "Mounted at /content/drive\n"
          ]
        }
      ]
    },
    {
      "cell_type": "code",
      "source": [
        "FILES_PATH = \"/content/drive/MyDrive/Colab Notebooks/files/\"\n",
        "#FILES_PATH = \"/content/drive/MyDrive/\""
      ],
      "metadata": {
        "id": "wrB2UF7BNyZe"
      },
      "execution_count": null,
      "outputs": []
    },
    {
      "cell_type": "code",
      "source": [
        "!ls /content/drive/MyDrive/Colab\\ Notebooks/files"
      ],
      "metadata": {
        "colab": {
          "base_uri": "https://localhost:8080/"
        },
        "id": "KKoUoh1SOThJ",
        "outputId": "dd0e2828-6b31-4585-e917-cdae13ef39cd"
      },
      "execution_count": null,
      "outputs": [
        {
          "output_type": "stream",
          "name": "stdout",
          "text": [
            "ebow-whatsapp-mic-recording-test-cut-44100.wav\tsaved_model.hdf5  zero_encoded_classes.json\n"
          ]
        }
      ]
    },
    {
      "cell_type": "code",
      "source": [
        "#!pip install librosa\n",
        "#import librosa\n",
        "from IPython.display import Audio\n",
        "from matplotlib import pyplot as plt\n",
        "import seaborn as sns\n",
        "\n",
        "# all imports\n",
        "from IPython.display import Javascript\n",
        "from google.colab import output\n",
        "from base64 import b64decode\n",
        "from io import BytesIO\n",
        "!pip -q install pydub\n",
        "from pydub import AudioSegment\n",
        "import numpy as np\n",
        "import time\n",
        "\n",
        "RECORD = \"\"\"\n",
        "const sleep  = time => new Promise(resolve => setTimeout(resolve, time))\n",
        "const b2text = blob => new Promise(resolve => {\n",
        "  const reader = new FileReader()\n",
        "  reader.onloadend = e => resolve(e.srcElement.result)\n",
        "  reader.readAsDataURL(blob)\n",
        "})\n",
        "var record = time => new Promise(async resolve => {\n",
        "  stream = await navigator.mediaDevices.getUserMedia({ audio: true })\n",
        "  recorder = new MediaRecorder(stream)\n",
        "  chunks = []\n",
        "  recorder.ondataavailable = e => chunks.push(e.data)\n",
        "  recorder.start()\n",
        "  await sleep(time)\n",
        "  recorder.onstop = async ()=>{\n",
        "    blob = new Blob(chunks)\n",
        "    text = await b2text(blob)\n",
        "    resolve(text)\n",
        "  }\n",
        "  recorder.stop()\n",
        "})\n",
        "\"\"\"\n",
        "\n",
        "def record(sec=3):\n",
        "  print(\"Recording...\")\n",
        "  display(Javascript(RECORD))\n",
        "  s = output.eval_js('record(%d)' % (sec*1000))\n",
        "  b = b64decode(s.split(',')[1])\n",
        "  audio = AudioSegment.from_file(BytesIO(b))\n",
        "  return audio\n"
      ],
      "metadata": {
        "id": "8v6vKqNaWNvK"
      },
      "execution_count": null,
      "outputs": []
    },
    {
      "cell_type": "markdown",
      "source": [
        "# Loading the pre-trained model\n",
        "\n",
        "---\n",
        "\n"
      ],
      "metadata": {
        "id": "gYBLuRlDT58r"
      }
    },
    {
      "cell_type": "code",
      "source": [
        "# LOAD model\n",
        "h5_file = FILES_PATH+\"saved_model.hdf5\"\n",
        "loaded_model = tf.keras.models.load_model(h5_file)\n",
        "\n",
        "# Load from the JSON file\n",
        "with open(FILES_PATH+'zero_encoded_classes.json', 'r') as json_file:\n",
        "    loaded_zero_encoded_classes = json.load(json_file)\n",
        "\n",
        "print(loaded_zero_encoded_classes)\n"
      ],
      "metadata": {
        "colab": {
          "base_uri": "https://localhost:8080/"
        },
        "id": "Idiu51PNI8t2",
        "outputId": "9dfa6bff-d953-4850-b555-9c6cb7361bb5"
      },
      "execution_count": null,
      "outputs": [
        {
          "output_type": "stream",
          "name": "stdout",
          "text": [
            "['slide', 'imanes', 'ebow', 'arco', 'cenicero']\n"
          ]
        }
      ]
    },
    {
      "cell_type": "code",
      "source": [
        "n_fft = 2048\n",
        "hop_length = 4*256"
      ],
      "metadata": {
        "id": "Vd7dIHciRIsS"
      },
      "execution_count": null,
      "outputs": []
    },
    {
      "cell_type": "code",
      "source": [
        "def preprocess_input(example_filename, sample_rate=None, audio_duration=None):\n",
        "    # Open file with original sample rate\n",
        "    example_audio, orig_sr = librosa.load(example_filename, sr=sample_rate)\n",
        "\n",
        "    if audio_duration is not None:\n",
        "        stop = int(audio_duration*orig_sr)\n",
        "        X_truncated = example_audio[0:stop]\n",
        "        X_truncated = np.hstack([X_truncated, np.zeros(stop-len(X_truncated))])\n",
        "    else:\n",
        "        X_truncated = example_audio\n",
        "\n",
        "    mel_spec = librosa.feature.melspectrogram(y=X_truncated, sr=sample_rate, hop_length=hop_length, n_fft=n_fft)\n",
        "    mel_spec_db = librosa.power_to_db(mel_spec, ref=np.max)\n",
        "\n",
        "    image_input = mel_spec_db.reshape(*mel_spec_db.shape , 1)\n",
        "    image_input = np.repeat(image_input, 3, axis=-1)\n",
        "    image_input = np.expand_dims(image_input, axis=0)\n",
        "    # image.shape\n",
        "\n",
        "    return X_truncated, orig_sr, mel_spec_db, image_input"
      ],
      "metadata": {
        "id": "N74xfcWUJS4k"
      },
      "execution_count": null,
      "outputs": []
    },
    {
      "cell_type": "code",
      "source": [
        "def decode_one_hot(encoded_output, class_labels):\n",
        "    # Find the index of the highest value in the one-hot encoded array\n",
        "    index = np.argmax(encoded_output)\n",
        "\n",
        "    # Map the index to the corresponding class label\n",
        "    class_label = class_labels[index]\n",
        "\n",
        "    return class_label"
      ],
      "metadata": {
        "id": "kDEp3E_qQq4l"
      },
      "execution_count": null,
      "outputs": []
    },
    {
      "cell_type": "markdown",
      "source": [
        "# Realtime prediction"
      ],
      "metadata": {
        "id": "s8-yfdSvXUt0"
      }
    },
    {
      "cell_type": "code",
      "source": [
        "sample_rate = 44100\n",
        "\n",
        "def capturar_predecir(records_amount=5):\n",
        "  audio_duration = 3\n",
        "  audio=record(sec=audio_duration) # 3 segundos\n",
        "\n",
        "  #evaluar si realmente es necesario escribir el archivo primero\n",
        "  sound = \"test\"\n",
        "  nbr = 1\n",
        "  example_filename = \"{}_{}.wav\".format(sound,nbr)\n",
        "  audio.export(example_filename,format=\"wav\")\n",
        "\n",
        "  #TODO: check sample rate\n",
        "  _, _, _, image_input = preprocess_input(example_filename, sample_rate=sample_rate, audio_duration=audio_duration)\n",
        "  predictions = loaded_model.predict( image_input ) # %time\n",
        "  print( predictions )\n",
        "  print( \"Clases posibles: \", loaded_zero_encoded_classes)\n",
        "  print( \"Clase detectada: \", decode_one_hot(predictions[0], loaded_zero_encoded_classes) )\n",
        "  print( \"--------------------------------------------\")\n",
        "  print( \"--------------------------------------------\")\n",
        "  time.sleep(1)"
      ],
      "metadata": {
        "id": "Nx4lrJeOUh86"
      },
      "execution_count": null,
      "outputs": []
    },
    {
      "cell_type": "code",
      "source": [
        "for i in range(5):\n",
        "  capturar_predecir()"
      ],
      "metadata": {
        "colab": {
          "base_uri": "https://localhost:8080/",
          "height": 625
        },
        "id": "id8WMJveYAxu",
        "outputId": "368c2d55-5ad4-4750-c6bf-8a378fe29f82"
      },
      "execution_count": null,
      "outputs": [
        {
          "output_type": "stream",
          "name": "stdout",
          "text": [
            "Recording...\n"
          ]
        },
        {
          "output_type": "display_data",
          "data": {
            "text/plain": [
              "<IPython.core.display.Javascript object>"
            ],
            "application/javascript": [
              "\n",
              "const sleep  = time => new Promise(resolve => setTimeout(resolve, time))\n",
              "const b2text = blob => new Promise(resolve => {\n",
              "  const reader = new FileReader()\n",
              "  reader.onloadend = e => resolve(e.srcElement.result)\n",
              "  reader.readAsDataURL(blob)\n",
              "})\n",
              "var record = time => new Promise(async resolve => {\n",
              "  stream = await navigator.mediaDevices.getUserMedia({ audio: true })\n",
              "  recorder = new MediaRecorder(stream)\n",
              "  chunks = []\n",
              "  recorder.ondataavailable = e => chunks.push(e.data)\n",
              "  recorder.start()\n",
              "  await sleep(time)\n",
              "  recorder.onstop = async ()=>{\n",
              "    blob = new Blob(chunks)\n",
              "    text = await b2text(blob)\n",
              "    resolve(text)\n",
              "  }\n",
              "  recorder.stop()\n",
              "})\n"
            ]
          },
          "metadata": {}
        },
        {
          "output_type": "stream",
          "name": "stdout",
          "text": [
            "1/1 [==============================] - 0s 122ms/step\n",
            "[[0.5980387  0.05296788 0.15838645 0.1234619  0.06714505]]\n",
            "Clases posibles:  ['slide', 'imanes', 'ebow', 'arco', 'cenicero']\n",
            "Clase detectada:  slide\n",
            "--------------------------------------------\n",
            "--------------------------------------------\n",
            "Recording...\n"
          ]
        },
        {
          "output_type": "display_data",
          "data": {
            "text/plain": [
              "<IPython.core.display.Javascript object>"
            ],
            "application/javascript": [
              "\n",
              "const sleep  = time => new Promise(resolve => setTimeout(resolve, time))\n",
              "const b2text = blob => new Promise(resolve => {\n",
              "  const reader = new FileReader()\n",
              "  reader.onloadend = e => resolve(e.srcElement.result)\n",
              "  reader.readAsDataURL(blob)\n",
              "})\n",
              "var record = time => new Promise(async resolve => {\n",
              "  stream = await navigator.mediaDevices.getUserMedia({ audio: true })\n",
              "  recorder = new MediaRecorder(stream)\n",
              "  chunks = []\n",
              "  recorder.ondataavailable = e => chunks.push(e.data)\n",
              "  recorder.start()\n",
              "  await sleep(time)\n",
              "  recorder.onstop = async ()=>{\n",
              "    blob = new Blob(chunks)\n",
              "    text = await b2text(blob)\n",
              "    resolve(text)\n",
              "  }\n",
              "  recorder.stop()\n",
              "})\n"
            ]
          },
          "metadata": {}
        },
        {
          "output_type": "stream",
          "name": "stdout",
          "text": [
            "1/1 [==============================] - 0s 119ms/step\n",
            "[[0.06758568 0.03572444 0.7860498  0.10108009 0.00956001]]\n",
            "Clases posibles:  ['slide', 'imanes', 'ebow', 'arco', 'cenicero']\n",
            "Clase detectada:  ebow\n",
            "--------------------------------------------\n",
            "--------------------------------------------\n",
            "Recording...\n"
          ]
        },
        {
          "output_type": "display_data",
          "data": {
            "text/plain": [
              "<IPython.core.display.Javascript object>"
            ],
            "application/javascript": [
              "\n",
              "const sleep  = time => new Promise(resolve => setTimeout(resolve, time))\n",
              "const b2text = blob => new Promise(resolve => {\n",
              "  const reader = new FileReader()\n",
              "  reader.onloadend = e => resolve(e.srcElement.result)\n",
              "  reader.readAsDataURL(blob)\n",
              "})\n",
              "var record = time => new Promise(async resolve => {\n",
              "  stream = await navigator.mediaDevices.getUserMedia({ audio: true })\n",
              "  recorder = new MediaRecorder(stream)\n",
              "  chunks = []\n",
              "  recorder.ondataavailable = e => chunks.push(e.data)\n",
              "  recorder.start()\n",
              "  await sleep(time)\n",
              "  recorder.onstop = async ()=>{\n",
              "    blob = new Blob(chunks)\n",
              "    text = await b2text(blob)\n",
              "    resolve(text)\n",
              "  }\n",
              "  recorder.stop()\n",
              "})\n"
            ]
          },
          "metadata": {}
        },
        {
          "output_type": "stream",
          "name": "stdout",
          "text": [
            "1/1 [==============================] - 0s 156ms/step\n",
            "[[0.08854766 0.09686952 0.5762151  0.14109325 0.09727445]]\n",
            "Clases posibles:  ['slide', 'imanes', 'ebow', 'arco', 'cenicero']\n",
            "Clase detectada:  ebow\n",
            "--------------------------------------------\n",
            "--------------------------------------------\n",
            "Recording...\n"
          ]
        },
        {
          "output_type": "display_data",
          "data": {
            "text/plain": [
              "<IPython.core.display.Javascript object>"
            ],
            "application/javascript": [
              "\n",
              "const sleep  = time => new Promise(resolve => setTimeout(resolve, time))\n",
              "const b2text = blob => new Promise(resolve => {\n",
              "  const reader = new FileReader()\n",
              "  reader.onloadend = e => resolve(e.srcElement.result)\n",
              "  reader.readAsDataURL(blob)\n",
              "})\n",
              "var record = time => new Promise(async resolve => {\n",
              "  stream = await navigator.mediaDevices.getUserMedia({ audio: true })\n",
              "  recorder = new MediaRecorder(stream)\n",
              "  chunks = []\n",
              "  recorder.ondataavailable = e => chunks.push(e.data)\n",
              "  recorder.start()\n",
              "  await sleep(time)\n",
              "  recorder.onstop = async ()=>{\n",
              "    blob = new Blob(chunks)\n",
              "    text = await b2text(blob)\n",
              "    resolve(text)\n",
              "  }\n",
              "  recorder.stop()\n",
              "})\n"
            ]
          },
          "metadata": {}
        },
        {
          "output_type": "stream",
          "name": "stdout",
          "text": [
            "1/1 [==============================] - 0s 147ms/step\n",
            "[[2.7300960e-01 7.2570306e-01 5.3549214e-04 6.6796801e-04 8.3803658e-05]]\n",
            "Clases posibles:  ['slide', 'imanes', 'ebow', 'arco', 'cenicero']\n",
            "Clase detectada:  imanes\n",
            "--------------------------------------------\n",
            "--------------------------------------------\n",
            "Recording...\n"
          ]
        },
        {
          "output_type": "display_data",
          "data": {
            "text/plain": [
              "<IPython.core.display.Javascript object>"
            ],
            "application/javascript": [
              "\n",
              "const sleep  = time => new Promise(resolve => setTimeout(resolve, time))\n",
              "const b2text = blob => new Promise(resolve => {\n",
              "  const reader = new FileReader()\n",
              "  reader.onloadend = e => resolve(e.srcElement.result)\n",
              "  reader.readAsDataURL(blob)\n",
              "})\n",
              "var record = time => new Promise(async resolve => {\n",
              "  stream = await navigator.mediaDevices.getUserMedia({ audio: true })\n",
              "  recorder = new MediaRecorder(stream)\n",
              "  chunks = []\n",
              "  recorder.ondataavailable = e => chunks.push(e.data)\n",
              "  recorder.start()\n",
              "  await sleep(time)\n",
              "  recorder.onstop = async ()=>{\n",
              "    blob = new Blob(chunks)\n",
              "    text = await b2text(blob)\n",
              "    resolve(text)\n",
              "  }\n",
              "  recorder.stop()\n",
              "})\n"
            ]
          },
          "metadata": {}
        },
        {
          "output_type": "stream",
          "name": "stdout",
          "text": [
            "1/1 [==============================] - 0s 141ms/step\n",
            "[[0.86326027 0.02020462 0.06473632 0.04729205 0.00450683]]\n",
            "Clases posibles:  ['slide', 'imanes', 'ebow', 'arco', 'cenicero']\n",
            "Clase detectada:  slide\n",
            "--------------------------------------------\n",
            "--------------------------------------------\n"
          ]
        }
      ]
    },
    {
      "cell_type": "code",
      "source": [
        "# Paso 1) enviar MIDI\n",
        "# Paso 2) detectar cosas y cambiar parámetros (ej en base a duración)\n",
        "# Control / Recomendación"
      ],
      "metadata": {
        "id": "LI2xrLoqYMQG"
      },
      "execution_count": null,
      "outputs": []
    }
  ]
}